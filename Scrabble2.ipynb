{
 "cells": [
  {
   "cell_type": "code",
   "execution_count": null,
   "metadata": {},
   "outputs": [],
   "source": [
    "import pandas as pd"
   ]
  },
  {
   "cell_type": "code",
   "execution_count": null,
   "metadata": {},
   "outputs": [],
   "source": [
    "df = pd.read_csv('P:\\Sample data sources\\sjp_slowa.txt', header=None, names = ['words'])"
   ]
  },
  {
   "cell_type": "code",
   "execution_count": null,
   "metadata": {},
   "outputs": [],
   "source": [
    "df.shape"
   ]
  },
  {
   "cell_type": "code",
   "execution_count": null,
   "metadata": {},
   "outputs": [],
   "source": [
    "word_list = df['words'].tolist()"
   ]
  },
  {
   "cell_type": "code",
   "execution_count": 1,
   "metadata": {},
   "outputs": [
    {
     "ename": "NameError",
     "evalue": "name 'word_list' is not defined",
     "output_type": "error",
     "traceback": [
      "\u001b[1;31m---------------------------------------------------------------------------\u001b[0m",
      "\u001b[1;31mNameError\u001b[0m                                 Traceback (most recent call last)",
      "\u001b[1;32m<ipython-input-1-085398811939>\u001b[0m in \u001b[0;36m<module>\u001b[1;34m\u001b[0m\n\u001b[1;32m----> 1\u001b[1;33m \u001b[0mprint\u001b[0m\u001b[1;33m(\u001b[0m\u001b[0mlen\u001b[0m\u001b[1;33m(\u001b[0m\u001b[0mword_list\u001b[0m\u001b[1;33m)\u001b[0m\u001b[1;33m)\u001b[0m\u001b[1;33m\u001b[0m\u001b[1;33m\u001b[0m\u001b[0m\n\u001b[0m",
      "\u001b[1;31mNameError\u001b[0m: name 'word_list' is not defined"
     ]
    }
   ],
   "source": [
    "print(len(word_list))"
   ]
  },
  {
   "cell_type": "code",
   "execution_count": null,
   "metadata": {},
   "outputs": [],
   "source": [
    "for i in word_list:\n",
    "    "
   ]
  },
  {
   "cell_type": "code",
   "execution_count": null,
   "metadata": {},
   "outputs": [],
   "source": [
    ">>> a = 'ZENOVW'\n",
    ">>> \n",
    "'ENOVWZ'"
   ]
  },
  {
   "cell_type": "code",
   "execution_count": null,
   "metadata": {},
   "outputs": [],
   "source": []
  },
  {
   "cell_type": "code",
   "execution_count": null,
   "metadata": {},
   "outputs": [],
   "source": []
  },
  {
   "cell_type": "code",
   "execution_count": null,
   "metadata": {},
   "outputs": [],
   "source": []
  },
  {
   "cell_type": "code",
   "execution_count": null,
   "metadata": {},
   "outputs": [],
   "source": []
  },
  {
   "cell_type": "code",
   "execution_count": null,
   "metadata": {},
   "outputs": [],
   "source": [
    "import pandas as pd\n",
    "words = pd.read_csv(r'P:\\Sample data sources\\sjp_slowa.txt', header=None, names=['words'])\n",
    "words_sorted = pd.read_csv(r'P:\\Sample data sources\\sjp_slowa_sort.txt', header=None, names=['sorted'])"
   ]
  },
  {
   "cell_type": "code",
   "execution_count": null,
   "metadata": {
    "scrolled": true
   },
   "outputs": [],
   "source": [
    "merged = pd.merge(pd.DataFrame(words_sorted),pd.DataFrame(words),left_index=True,right_index=True)\n",
    "merged"
   ]
  },
  {
   "cell_type": "code",
   "execution_count": null,
   "metadata": {},
   "outputs": [],
   "source": [
    "# https://stackoverflow.com/questions/22219004/grouping-rows-in-list-in-pandas-groupby\n",
    "# new_merged = merged.groupby('words')['sorted'].apply(list)\n",
    "new_merged = merged.groupby('sorted').agg(list)"
   ]
  },
  {
   "cell_type": "code",
   "execution_count": null,
   "metadata": {},
   "outputs": [],
   "source": [
    "new_merged = new_merged.reset_index()"
   ]
  },
  {
   "cell_type": "code",
   "execution_count": null,
   "metadata": {},
   "outputs": [],
   "source": [
    "# pd.set_option('display.max_rows', 1000)\n",
    "del new_merged['index']"
   ]
  },
  {
   "cell_type": "code",
   "execution_count": null,
   "metadata": {
    "scrolled": true
   },
   "outputs": [],
   "source": [
    "new_merged"
   ]
  },
  {
   "cell_type": "code",
   "execution_count": null,
   "metadata": {},
   "outputs": [],
   "source": [
    "word_dict = new_merged.set_index('sorted')['words'].to_dict()"
   ]
  },
  {
   "cell_type": "code",
   "execution_count": null,
   "metadata": {},
   "outputs": [],
   "source": [
    "word_dict"
   ]
  },
  {
   "cell_type": "code",
   "execution_count": null,
   "metadata": {},
   "outputs": [],
   "source": [
    "# save as pickle\n",
    "import pickle\n",
    "\n",
    "with open('P:\\Sample data sources\\output.pickle', 'wb') as f:\n",
    "    pickle.dump(my_dict, f, protocol=pickle.HIGHEST_PROTOCOL)"
   ]
  },
  {
   "cell_type": "code",
   "execution_count": 2,
   "metadata": {},
   "outputs": [
    {
     "name": "stdout",
     "output_type": "stream",
     "text": [
      "Time elapsed (hh:mm:ss.ms) 0:00:16.720039\n"
     ]
    }
   ],
   "source": [
    "# load pickle\n",
    "from datetime import datetime \n",
    "start_time = datetime.now()\n",
    "\n",
    "import pickle\n",
    "\n",
    "with open('P:\\Sample data sources\\output.pickle', 'rb') as f:\n",
    "    my_dict2 = pickle.load(f)\n",
    "    \n",
    "time_elapsed = datetime.now() - start_time \n",
    "print('Time elapsed (hh:mm:ss.ms) {}'.format(time_elapsed))"
   ]
  },
  {
   "cell_type": "code",
   "execution_count": 9,
   "metadata": {},
   "outputs": [
    {
     "name": "stdout",
     "output_type": "stream",
     "text": [
      "['akałaby', 'abakany', 'nażyłka', 'nażyłka', 'nażyłka', 'bakłażan', 'bakłażany']\n",
      "Time elapsed (hh:mm:ss.ms) 0:00:00\n"
     ]
    }
   ],
   "source": [
    "from datetime import datetime \n",
    "start_time = datetime.now()\n",
    "\n",
    "from itertools import combinations\n",
    "\n",
    "input_txt = 'bakłażany'\n",
    "# input_sort = ''.join(sorted(input_txt))\n",
    "\n",
    "import string\n",
    "alphabet = list('aąbcćdeęfghijklłmnńoóprsśtuwyzźż')\n",
    "blank = False\n",
    "word_min = 7\n",
    "\n",
    "if blank:\n",
    "    perm_list = []\n",
    "    for char_len in range(word_min, len(input_txt) + 2):\n",
    "        for x in alphabet:\n",
    "            char_list = list(input_txt + x)\n",
    "            perm = combinations(char_list, char_len)\n",
    "            for i in list(perm): \n",
    "                join_char = ''.join(i)\n",
    "                join_sort = ''.join(sorted(join_char))\n",
    "                perm_list.append(join_sort)  \n",
    "    \n",
    "else:\n",
    "    perm_list = []\n",
    "    for char_len in range(word_min, len(input_txt) + 1):\n",
    "        char_list = list(input_txt)\n",
    "        perm = combinations(char_list, char_len)\n",
    "        for i in list(perm): \n",
    "            join_char = ''.join(i)\n",
    "            join_sort = ''.join(sorted(join_char))\n",
    "            perm_list.append(join_sort)\n",
    "\n",
    "perm_list\n",
    "\n",
    "results = []\n",
    "\n",
    "for i in perm_list:\n",
    "    if i in my_dict2:\n",
    "        word = my_dict2[i]\n",
    "        results.append(word)\n",
    "\n",
    "results = [item for sublist in results for item in sublist]        \n",
    "        \n",
    "print(results)     \n",
    "        \n",
    "time_elapsed = datetime.now() - start_time \n",
    "print('Time elapsed (hh:mm:ss.ms) {}'.format(time_elapsed))"
   ]
  },
  {
   "cell_type": "code",
   "execution_count": null,
   "metadata": {},
   "outputs": [],
   "source": []
  }
 ],
 "metadata": {
  "kernelspec": {
   "display_name": "Python 3",
   "language": "python",
   "name": "python3"
  },
  "language_info": {
   "codemirror_mode": {
    "name": "ipython",
    "version": 3
   },
   "file_extension": ".py",
   "mimetype": "text/x-python",
   "name": "python",
   "nbconvert_exporter": "python",
   "pygments_lexer": "ipython3",
   "version": "3.7.3"
  }
 },
 "nbformat": 4,
 "nbformat_minor": 2
}
