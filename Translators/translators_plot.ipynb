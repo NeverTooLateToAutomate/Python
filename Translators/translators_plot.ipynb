{
 "cells": [
  {
   "cell_type": "code",
   "execution_count": 55,
   "metadata": {},
   "outputs": [
    {
     "name": "stdout",
     "output_type": "stream",
     "text": [
      "(10841, 3)\n"
     ]
    },
    {
     "data": {
      "text/html": [
       "<div>\n",
       "<style scoped>\n",
       "    .dataframe tbody tr th:only-of-type {\n",
       "        vertical-align: middle;\n",
       "    }\n",
       "\n",
       "    .dataframe tbody tr th {\n",
       "        vertical-align: top;\n",
       "    }\n",
       "\n",
       "    .dataframe thead th {\n",
       "        text-align: right;\n",
       "    }\n",
       "</style>\n",
       "<table border=\"1\" class=\"dataframe\">\n",
       "  <thead>\n",
       "    <tr style=\"text-align: right;\">\n",
       "      <th></th>\n",
       "      <th>Imię</th>\n",
       "      <th>Język</th>\n",
       "      <th>Województwo</th>\n",
       "    </tr>\n",
       "  </thead>\n",
       "  <tbody>\n",
       "    <tr>\n",
       "      <th>0</th>\n",
       "      <td>Bekteshi Ewa</td>\n",
       "      <td>albański</td>\n",
       "      <td>kujawsko-pomorskie</td>\n",
       "    </tr>\n",
       "    <tr>\n",
       "      <th>1</th>\n",
       "      <td>Bekteshi Orges</td>\n",
       "      <td>albański</td>\n",
       "      <td>kujawsko-pomorskie</td>\n",
       "    </tr>\n",
       "    <tr>\n",
       "      <th>2</th>\n",
       "      <td>Dargiel Karolinadr nauk hum.</td>\n",
       "      <td>albański</td>\n",
       "      <td>małopolskie</td>\n",
       "    </tr>\n",
       "    <tr>\n",
       "      <th>3</th>\n",
       "      <td>Jarecki Krzysztof</td>\n",
       "      <td>amharski</td>\n",
       "      <td>mazowieckie</td>\n",
       "    </tr>\n",
       "    <tr>\n",
       "      <th>4</th>\n",
       "      <td>Abriszewska-Moreau Dariadr nauk hum.</td>\n",
       "      <td>angielski</td>\n",
       "      <td>kujawsko-pomorskie</td>\n",
       "    </tr>\n",
       "  </tbody>\n",
       "</table>\n",
       "</div>"
      ],
      "text/plain": [
       "                                   Imię      Język         Województwo\n",
       "0                          Bekteshi Ewa   albański  kujawsko-pomorskie\n",
       "1                        Bekteshi Orges   albański  kujawsko-pomorskie\n",
       "2          Dargiel Karolinadr nauk hum.   albański         małopolskie\n",
       "3                     Jarecki Krzysztof   amharski         mazowieckie\n",
       "4  Abriszewska-Moreau Dariadr nauk hum.  angielski  kujawsko-pomorskie"
      ]
     },
     "execution_count": 55,
     "metadata": {},
     "output_type": "execute_result"
    }
   ],
   "source": [
    "import pandas as pd\n",
    "pd.set_option('display.max_rows', 11000)\n",
    "import requests\n",
    "from bs4 import BeautifulSoup\n",
    "\n",
    "# language dictionary\n",
    "r = requests.get('https://arch-bip.ms.gov.pl/pl/rejestry-i-ewidencje/tlumacze-przysiegli/lista-tlumaczy-przysieglych/search.html')\n",
    "soup = BeautifulSoup(r.text, 'html.parser')\n",
    "\n",
    "for i in soup.find_all('select', attrs = {'name':'Language'}):\n",
    "    for option in i.find_all('option'):\n",
    "        lang_dict[option['value']] = option.text\n",
    "lang_dict.pop('') # empty record removed\n",
    "lang_dict.pop('64') # czarnogórski removed\n",
    "\n",
    "results = []\n",
    "for language in lang_dict:\n",
    "    \n",
    "    # number of pages\n",
    "    r = requests.get(f'https://arch-bip.ms.gov.pl/pl/rejestry-i-ewidencje/tlumacze-przysiegli/lista-tlumaczy-przysieglych/search.html?Language={language}')\n",
    "    soup = BeautifulSoup(r.text, 'html.parser')\n",
    "    page_list = []\n",
    "    tags = soup.find_all('a', href = True)\n",
    "    \n",
    "    try:\n",
    "        for tag in tags:\n",
    "            page_list.append(tag.get_text())\n",
    "        extracted_list = [s for s in page_list if s.isdigit()]\n",
    "        extracted_list = [int(s) for s in extracted_list]\n",
    "        extracted_list.sort()\n",
    "        max_page = extracted_list[-1]\n",
    "        page_list = list(range(1, max_page + 1))\n",
    "        pages = [',' + str(s) for s in page_list]\n",
    "    except:\n",
    "        pages = ['']\n",
    "\n",
    "    # collect data\n",
    "    for page in pages:\n",
    "        r = requests.get(f'https://arch-bip.ms.gov.pl/pl/rejestry-i-ewidencje/tlumacze-przysiegli/lista-tlumaczy-przysieglych/search{page}.html?Language={language}')\n",
    "        soup = BeautifulSoup(r.text, 'html.parser')\n",
    "        html_table = soup.find_all('table')[0]\n",
    "        temp_table = []\n",
    "        for row in html_table.find_all('tr'):\n",
    "            my_row_td = [element.get_text(strip = True) for element in row.find_all('td')]\n",
    "            if  my_row_td:\n",
    "                temp_table.append(my_row_td)\n",
    "            my_row_th = [element.get_text(strip = True) for element in row.find_all('th')]\n",
    "            if  my_row_th:\n",
    "                temp_table.append(my_row_th)\n",
    "        translators = pd.DataFrame(temp_table[1:], columns = temp_table[0])\n",
    "        translators['Język'] = lang_dict[language] # adding 'Language' column\n",
    "        results.append(translators)\n",
    "        df = pd.concat(results, ignore_index = True, sort = False)\n",
    "\n",
    "# DataFrame shaping\n",
    "df = df[['Imię', 'Język', 'Województwo']]\n",
    "df['Imię'] = df['Imię'].str.replace('\\n\\t\\t\\t', '', case = False)\n",
    "df.sort_values(['Język', 'Imię'], inplace=True)\n",
    "df = df.reset_index(drop=True)\n",
    "file_name = r'C:\\Users\\admin\\Documents\\Nauka\\Python projects\\06 Translators\\translators.csv'\n",
    "df.to_csv(file_name, sep = '\\t', encoding = 'utf-8', index = False)\n",
    "\n",
    "print(df.shape)\n",
    "df.head()"
   ]
  },
  {
   "cell_type": "code",
   "execution_count": 1,
   "metadata": {},
   "outputs": [
    {
     "ename": "NameError",
     "evalue": "name 'figsize' is not defined",
     "output_type": "error",
     "traceback": [
      "\u001b[1;31m---------------------------------------------------------------------------\u001b[0m",
      "\u001b[1;31mNameError\u001b[0m                                 Traceback (most recent call last)",
      "\u001b[1;32m<ipython-input-1-d1efb99371af>\u001b[0m in \u001b[0;36m<module>\u001b[1;34m\u001b[0m\n\u001b[0;32m     25\u001b[0m \u001b[0mcmap\u001b[0m \u001b[1;33m=\u001b[0m \u001b[1;34m'Blues'\u001b[0m\u001b[1;33m\u001b[0m\u001b[1;33m\u001b[0m\u001b[0m\n\u001b[0;32m     26\u001b[0m \u001b[0mfig\u001b[0m\u001b[1;33m,\u001b[0m \u001b[0max\u001b[0m \u001b[1;33m=\u001b[0m \u001b[0mplt\u001b[0m\u001b[1;33m.\u001b[0m\u001b[0msubplots\u001b[0m\u001b[1;33m(\u001b[0m\u001b[1;36m1\u001b[0m\u001b[1;33m,\u001b[0m \u001b[0mfigsize\u001b[0m \u001b[1;33m=\u001b[0m \u001b[1;33m(\u001b[0m\u001b[1;36m16\u001b[0m\u001b[1;33m,\u001b[0m \u001b[1;36m10\u001b[0m\u001b[1;33m)\u001b[0m\u001b[1;33m)\u001b[0m\u001b[1;33m\u001b[0m\u001b[1;33m\u001b[0m\u001b[0m\n\u001b[1;32m---> 27\u001b[1;33m \u001b[0mdf_merged\u001b[0m\u001b[1;33m.\u001b[0m\u001b[0mplot\u001b[0m\u001b[1;33m(\u001b[0m\u001b[0mcolumn\u001b[0m \u001b[1;33m=\u001b[0m \u001b[1;34m'Język'\u001b[0m\u001b[1;33m,\u001b[0m \u001b[0mcmap\u001b[0m\u001b[1;33m=\u001b[0m\u001b[0mcmap\u001b[0m\u001b[1;33m,\u001b[0m \u001b[0mfigsize\u001b[0m\u001b[1;33m=\u001b[0m\u001b[0mfigsize\u001b[0m\u001b[1;33m,\u001b[0m \u001b[0mscheme\u001b[0m\u001b[1;33m=\u001b[0m\u001b[1;34m'equal_interval'\u001b[0m\u001b[1;33m,\u001b[0m \u001b[0mk\u001b[0m\u001b[1;33m=\u001b[0m\u001b[0mcolors\u001b[0m\u001b[1;33m,\u001b[0m \u001b[0max\u001b[0m\u001b[1;33m=\u001b[0m\u001b[0max\u001b[0m\u001b[1;33m,\u001b[0m \u001b[0mlegend\u001b[0m\u001b[1;33m=\u001b[0m\u001b[1;32mFalse\u001b[0m\u001b[1;33m,\u001b[0m \u001b[0mlinewidth\u001b[0m\u001b[1;33m=\u001b[0m\u001b[1;36m0.8\u001b[0m\u001b[1;33m,\u001b[0m \u001b[0medgecolor\u001b[0m\u001b[1;33m=\u001b[0m\u001b[1;34m'0.8'\u001b[0m\u001b[1;33m)\u001b[0m\u001b[1;33m\u001b[0m\u001b[1;33m\u001b[0m\u001b[0m\n\u001b[0m\u001b[0;32m     28\u001b[0m \u001b[0max\u001b[0m\u001b[1;33m.\u001b[0m\u001b[0maxis\u001b[0m\u001b[1;33m(\u001b[0m\u001b[1;34m'off'\u001b[0m\u001b[1;33m)\u001b[0m\u001b[1;33m\u001b[0m\u001b[1;33m\u001b[0m\u001b[0m\n\u001b[0;32m     29\u001b[0m \u001b[1;31m# sm = plt.cm.ScalarMappable(cmap=cmap, norm=plt.Normalize(vmin=150, vmax=2100))\u001b[0m\u001b[1;33m\u001b[0m\u001b[1;33m\u001b[0m\u001b[1;33m\u001b[0m\u001b[0m\n",
      "\u001b[1;31mNameError\u001b[0m: name 'figsize' is not defined"
     ]
    },
    {
     "data": {
      "image/png": "[encoded data removed]",
      "text/plain": [
       "<Figure size 1152x720 with 1 Axes>"
      ]
     },
     "metadata": {
      "needs_background": "light"
     },
     "output_type": "display_data"
    }
   ],
   "source": [
    "import pandas as pd\n",
    "pd.set_option('display.max_columns', 500)\n",
    "import geopandas as gpd\n",
    "import matplotlib.pyplot as plt\n",
    "%matplotlib inline\n",
    "\n",
    "# load shapefile\n",
    "map_shp = r'C:\\Users\\admin\\Documents\\Nauka\\Python projects\\06 Translators\\wojewodztwa\\województwa.shp'\n",
    "map_df = gpd.read_file(map_shp, encoding = 'utf-8')\n",
    "# map_df.plot()\n",
    "\n",
    "# load translators DataFrame\n",
    "file_name = r'C:\\Users\\admin\\Documents\\Nauka\\Python projects\\06 Translators\\translators_raw.csv'\n",
    "df = pd.read_csv(file_name, sep = '\\t', encoding = 'utf-8')\n",
    "# df.head()\n",
    "\n",
    "df_woj = df.groupby('Województwo').count()[['Język']]\n",
    "df_woj = df_woj.reset_index()\n",
    "\n",
    "df_merged = map_df.merge(df_woj, left_on = 'jpt_nazwa_', right_on = 'Województwo')\n",
    "# print(type(df_merged))\n",
    "\n",
    "# plotting map\n",
    "colors = 9\n",
    "cmap = 'Blues'\n",
    "fig, ax = plt.subplots(1, figsize = (16, 10))\n",
    "df_merged.plot(column = 'Język', cmap=cmap, figsize=figsize, scheme='equal_interval', k=colors, ax=ax, legend=False, linewidth=0.8, edgecolor='0.8')\n",
    "ax.axis('off')\n",
    "# sm = plt.cm.ScalarMappable(cmap=cmap, norm=plt.Normalize(vmin=150, vmax=2100))\n",
    "# sm._A = []"
   ]
  },
  {
   "cell_type": "code",
   "execution_count": null,
   "metadata": {},
   "outputs": [],
   "source": []
  }
 ],
 "metadata": {
  "kernelspec": {
   "display_name": "Python 3",
   "language": "python",
   "name": "python3"
  },
  "language_info": {
   "codemirror_mode": {
    "name": "ipython",
    "version": 3
   },
   "file_extension": ".py",
   "mimetype": "text/x-python",
   "name": "python",
   "nbconvert_exporter": "python",
   "pygments_lexer": "ipython3",
   "version": "3.7.3"
  }
 },
 "nbformat": 4,
 "nbformat_minor": 2
}
